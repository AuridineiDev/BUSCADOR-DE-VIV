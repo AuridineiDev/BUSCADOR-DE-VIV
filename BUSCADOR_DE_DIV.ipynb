{
  "nbformat": 4,
  "nbformat_minor": 0,
  "metadata": {
    "colab": {
      "provenance": [],
      "authorship_tag": "ABX9TyNlxdAjbccfp6okdaJFIii9",
      "include_colab_link": true
    },
    "kernelspec": {
      "name": "python3",
      "display_name": "Python 3"
    },
    "language_info": {
      "name": "python"
    },
    "widgets": {
      "application/vnd.jupyter.widget-state+json": {
        "6863f56379f44f8daa37a1b28afb24ae": {
          "model_module": "@jupyter-widgets/controls",
          "model_name": "TextModel",
          "model_module_version": "1.5.0",
          "state": {
            "_dom_classes": [],
            "_model_module": "@jupyter-widgets/controls",
            "_model_module_version": "1.5.0",
            "_model_name": "TextModel",
            "_view_count": null,
            "_view_module": "@jupyter-widgets/controls",
            "_view_module_version": "1.5.0",
            "_view_name": "TextView",
            "continuous_update": true,
            "description": "",
            "description_tooltip": null,
            "disabled": false,
            "layout": "IPY_MODEL_384f16d0d27a429198be8d8dc7d2d8bc",
            "placeholder": "Digite o ticker da ação (ex: PETR4 ou MXRF11)",
            "style": "IPY_MODEL_e4db15e29ea64477901385be6adf0e75",
            "value": "ABEV3"
          }
        },
        "384f16d0d27a429198be8d8dc7d2d8bc": {
          "model_module": "@jupyter-widgets/base",
          "model_name": "LayoutModel",
          "model_module_version": "1.2.0",
          "state": {
            "_model_module": "@jupyter-widgets/base",
            "_model_module_version": "1.2.0",
            "_model_name": "LayoutModel",
            "_view_count": null,
            "_view_module": "@jupyter-widgets/base",
            "_view_module_version": "1.2.0",
            "_view_name": "LayoutView",
            "align_content": null,
            "align_items": null,
            "align_self": null,
            "border": null,
            "bottom": null,
            "display": null,
            "flex": null,
            "flex_flow": null,
            "grid_area": null,
            "grid_auto_columns": null,
            "grid_auto_flow": null,
            "grid_auto_rows": null,
            "grid_column": null,
            "grid_gap": null,
            "grid_row": null,
            "grid_template_areas": null,
            "grid_template_columns": null,
            "grid_template_rows": null,
            "height": null,
            "justify_content": null,
            "justify_items": null,
            "left": null,
            "margin": null,
            "max_height": null,
            "max_width": null,
            "min_height": null,
            "min_width": null,
            "object_fit": null,
            "object_position": null,
            "order": null,
            "overflow": null,
            "overflow_x": null,
            "overflow_y": null,
            "padding": null,
            "right": null,
            "top": null,
            "visibility": null,
            "width": null
          }
        },
        "e4db15e29ea64477901385be6adf0e75": {
          "model_module": "@jupyter-widgets/controls",
          "model_name": "DescriptionStyleModel",
          "model_module_version": "1.5.0",
          "state": {
            "_model_module": "@jupyter-widgets/controls",
            "_model_module_version": "1.5.0",
            "_model_name": "DescriptionStyleModel",
            "_view_count": null,
            "_view_module": "@jupyter-widgets/base",
            "_view_module_version": "1.2.0",
            "_view_name": "StyleView",
            "description_width": ""
          }
        },
        "776d9c6948a542f0aa6cdc72d7bf0584": {
          "model_module": "@jupyter-widgets/controls",
          "model_name": "ButtonModel",
          "model_module_version": "1.5.0",
          "state": {
            "_dom_classes": [],
            "_model_module": "@jupyter-widgets/controls",
            "_model_module_version": "1.5.0",
            "_model_name": "ButtonModel",
            "_view_count": null,
            "_view_module": "@jupyter-widgets/controls",
            "_view_module_version": "1.5.0",
            "_view_name": "ButtonView",
            "button_style": "",
            "description": "Buscar Dividendos",
            "disabled": false,
            "icon": "",
            "layout": "IPY_MODEL_0119b1b9d2ec4f868db1e278561a1dbf",
            "style": "IPY_MODEL_a0089111c505448bb6e470068e5ae4b1",
            "tooltip": ""
          }
        },
        "0119b1b9d2ec4f868db1e278561a1dbf": {
          "model_module": "@jupyter-widgets/base",
          "model_name": "LayoutModel",
          "model_module_version": "1.2.0",
          "state": {
            "_model_module": "@jupyter-widgets/base",
            "_model_module_version": "1.2.0",
            "_model_name": "LayoutModel",
            "_view_count": null,
            "_view_module": "@jupyter-widgets/base",
            "_view_module_version": "1.2.0",
            "_view_name": "LayoutView",
            "align_content": null,
            "align_items": null,
            "align_self": null,
            "border": null,
            "bottom": null,
            "display": null,
            "flex": null,
            "flex_flow": null,
            "grid_area": null,
            "grid_auto_columns": null,
            "grid_auto_flow": null,
            "grid_auto_rows": null,
            "grid_column": null,
            "grid_gap": null,
            "grid_row": null,
            "grid_template_areas": null,
            "grid_template_columns": null,
            "grid_template_rows": null,
            "height": null,
            "justify_content": null,
            "justify_items": null,
            "left": null,
            "margin": null,
            "max_height": null,
            "max_width": null,
            "min_height": null,
            "min_width": null,
            "object_fit": null,
            "object_position": null,
            "order": null,
            "overflow": null,
            "overflow_x": null,
            "overflow_y": null,
            "padding": null,
            "right": null,
            "top": null,
            "visibility": null,
            "width": null
          }
        },
        "a0089111c505448bb6e470068e5ae4b1": {
          "model_module": "@jupyter-widgets/controls",
          "model_name": "ButtonStyleModel",
          "model_module_version": "1.5.0",
          "state": {
            "_model_module": "@jupyter-widgets/controls",
            "_model_module_version": "1.5.0",
            "_model_name": "ButtonStyleModel",
            "_view_count": null,
            "_view_module": "@jupyter-widgets/base",
            "_view_module_version": "1.2.0",
            "_view_name": "StyleView",
            "button_color": null,
            "font_weight": ""
          }
        }
      }
    }
  },
  "cells": [
    {
      "cell_type": "markdown",
      "metadata": {
        "id": "view-in-github",
        "colab_type": "text"
      },
      "source": [
        "<a href=\"https://colab.research.google.com/github/AuridineiDev/BUSCADOR-DE-VIV/blob/main/BUSCADOR_DE_DIV.ipynb\" target=\"_parent\"><img src=\"https://colab.research.google.com/assets/colab-badge.svg\" alt=\"Open In Colab\"/></a>"
      ]
    },
    {
      "cell_type": "code",
      "source": [
        "# Criado e registrado por Auridinei Abreu Lima, programador e investidor com ajuda de IA, todos os direitos reservados a ele.\n",
        "#_______________________________________________________________________________\n",
        "\n",
        "# Instale as bibliotecas necessárias (se ainda não estiverem instaladas)\n",
        "# Execute esta célula apenas uma vez\n",
        "!pip install yfinance pandas ipywidgets --quiet\n",
        "\n",
        "# Importando as bibliotecas\n",
        "import yfinance as yf\n",
        "import pandas as pd\n",
        "from IPython.display import display\n",
        "import ipywidgets as widgets\n",
        "\n",
        "# Função para buscar os dividendos de um ticker\n",
        "def buscar_dividendos(ticker):\n",
        "    try:\n",
        "        # Adicionando \".SA\" ao ticker, se necessário\n",
        "        if not ticker.endswith(\".SA\"):\n",
        "            ticker += \".SA\"\n",
        "\n",
        "        # Obtendo os dados da ação\n",
        "        acao = yf.Ticker(ticker)\n",
        "        info = acao.info\n",
        "\n",
        "        # Verificar se o ticker é válido\n",
        "        if 'longName' not in info:\n",
        "            print(f\"Ticker {ticker} não encontrado ou possivelmente delistado.\")\n",
        "            return\n",
        "\n",
        "        # Buscar dividendos\n",
        "        dividendos = acao.dividends\n",
        "\n",
        "        if dividendos.empty:\n",
        "            print(f\"Nenhum dado de dividendos encontrado para {ticker}.\")\n",
        "            return\n",
        "\n",
        "        # Calculando o total de dividendos pagos\n",
        "        total_dividendos = dividendos.sum()\n",
        "\n",
        "        # Exibindo o resultado\n",
        "        print(f\"Total de dividendos pagos por {ticker}: R$ {total_dividendos:.2f}\")\n",
        "\n",
        "    except Exception as e:\n",
        "        print(f\"Erro ao buscar dados para {ticker}: {e}\")\n",
        "\n",
        "# Criando uma interface interativa para o usuário\n",
        "def interface():\n",
        "    ticker_input = widgets.Text(placeholder=\"Digite o ticker da ação (ex: PETR4 ou MXRF11)\")\n",
        "    botao_buscar = widgets.Button(description=\"Buscar Dividendos\")\n",
        "\n",
        "    def on_button_click(b):\n",
        "        ticker = ticker_input.value.upper()\n",
        "        if not ticker:\n",
        "            print(\"Por favor, insira um ticker válido.\")\n",
        "        else:\n",
        "            buscar_dividendos(ticker)\n",
        "\n",
        "    botao_buscar.on_click(on_button_click)\n",
        "    display(ticker_input, botao_buscar)\n",
        "\n",
        "# Iniciar a interface\n",
        "interface()\n",
        "\n",
        "\n"
      ],
      "metadata": {
        "colab": {
          "base_uri": "https://localhost:8080/",
          "height": 150,
          "referenced_widgets": [
            "6863f56379f44f8daa37a1b28afb24ae",
            "384f16d0d27a429198be8d8dc7d2d8bc",
            "e4db15e29ea64477901385be6adf0e75",
            "776d9c6948a542f0aa6cdc72d7bf0584",
            "0119b1b9d2ec4f868db1e278561a1dbf",
            "a0089111c505448bb6e470068e5ae4b1"
          ]
        },
        "id": "1lOsQnxFtP9B",
        "outputId": "6994556e-1eb7-4947-e8eb-88df28f2e3ae"
      },
      "execution_count": null,
      "outputs": [
        {
          "output_type": "stream",
          "name": "stdout",
          "text": [
            "\u001b[?25l   \u001b[90m━━━━━━━━━━━━━━━━━━━━━━━━━━━━━━━━━━━━━━━━\u001b[0m \u001b[32m0.0/1.6 MB\u001b[0m \u001b[31m?\u001b[0m eta \u001b[36m-:--:--\u001b[0m\r\u001b[2K   \u001b[91m━━━━━━━━━━━━━━━━━━━━━━━━━\u001b[0m\u001b[91m╸\u001b[0m\u001b[90m━━━━━━━━━━━━━━\u001b[0m \u001b[32m1.0/1.6 MB\u001b[0m \u001b[31m38.9 MB/s\u001b[0m eta \u001b[36m0:00:01\u001b[0m\r\u001b[2K   \u001b[91m━━━━━━━━━━━━━━━━━━━━━━━━━━━━━━━━━━━━━━━\u001b[0m\u001b[91m╸\u001b[0m \u001b[32m1.6/1.6 MB\u001b[0m \u001b[31m24.4 MB/s\u001b[0m eta \u001b[36m0:00:01\u001b[0m\r\u001b[2K   \u001b[90m━━━━━━━━━━━━━━━━━━━━━━━━━━━━━━━━━━━━━━━━\u001b[0m \u001b[32m1.6/1.6 MB\u001b[0m \u001b[31m13.2 MB/s\u001b[0m eta \u001b[36m0:00:00\u001b[0m\n",
            "\u001b[?25h"
          ]
        },
        {
          "output_type": "display_data",
          "data": {
            "text/plain": [
              "Text(value='', placeholder='Digite o ticker da ação (ex: PETR4 ou MXRF11)')"
            ],
            "application/vnd.jupyter.widget-view+json": {
              "version_major": 2,
              "version_minor": 0,
              "model_id": "6863f56379f44f8daa37a1b28afb24ae"
            }
          },
          "metadata": {}
        },
        {
          "output_type": "display_data",
          "data": {
            "text/plain": [
              "Button(description='Buscar Dividendos', style=ButtonStyle())"
            ],
            "application/vnd.jupyter.widget-view+json": {
              "version_major": 2,
              "version_minor": 0,
              "model_id": "776d9c6948a542f0aa6cdc72d7bf0584"
            }
          },
          "metadata": {}
        },
        {
          "output_type": "stream",
          "name": "stdout",
          "text": [
            "Total de dividendos pagos por BBSE3.SA: R$ 24.51\n",
            "Total de dividendos pagos por BBAS3.SA: R$ 16.86\n",
            "Total de dividendos pagos por ABEV3.SA: R$ 8.95\n"
          ]
        }
      ]
    },
    {
      "cell_type": "code",
      "source": [],
      "metadata": {
        "id": "aU_eoLfP7exf"
      },
      "execution_count": null,
      "outputs": []
    }
  ]
}